{
 "cells": [
  {
   "cell_type": "markdown",
   "metadata": {},
   "source": [
    "# 01. Shell: Bash"
   ]
  },
  {
   "cell_type": "markdown",
   "metadata": {},
   "source": [
    "*Shell* est simplement un macroprocesseur qui exécute des commandes. Le terme macroprocesseur désigne une fonctionnalité dans laquelle le texte et les symboles sont étendus pour créer des expressions plus larges.\n",
    "\n",
    "Shell est à la fois un interpréteur de commandes et un langage de programmation. En tant qu’interpréteur de commandes, le shell fournit l'interface utilisateur riche munis de beaucoup d'utilitaires GNU. En tant qu'un langage de programmation, il permet de combiner d'utilitaires. Les fichiers contenant des commandes peuvent être créés, et deviennent ensuite des commandes (script). \n",
    "\n",
    "Les shells peuvent être utilisés de manière interactive ou non interactive. En mode interactif, ils acceptent l'entrée à partir du clavier. Lors de l'exécution non interactive, les shells exécutent des commandes lues à partir d'un fichier.\n",
    "\n",
    "*Bash* (**B**ourne-**A**gain **SH**ell) est un shell, l'interpréteur de langage de commande des systèmes d'exploitation GNU. Il est le shell par défaut de systèmes d'exploitation GNU. \n",
    "\n",
    "**Exemple**\n",
    "\n",
    "```bash\n",
    "   cd tpbi\n",
    "```"
   ]
  },
  {
   "cell_type": "markdown",
   "metadata": {},
   "source": [
    "* Installer **Bash**\n",
    "* Lancer **Git  Bash**\n",
    "\n",
    "<img src=\"git.PNG\" />"
   ]
  },
  {
   "cell_type": "markdown",
   "metadata": {},
   "source": [
    "## Hello World\n",
    "```bash\n",
    "   echo \"Hello, World\"\n",
    "   echo \"Version de Bash ${BASH_VERSION}...\"\n",
    "```"
   ]
  },
  {
   "cell_type": "markdown",
   "metadata": {},
   "source": [
    "## Un peu d'arithmetique\n",
    "\n",
    "```bash\n",
    "a=10\n",
    "b=5\n",
    "s= $(( a+b ))\n",
    "echo $s\n",
    "```"
   ]
  },
  {
   "cell_type": "markdown",
   "metadata": {},
   "source": [
    "## Boucle"
   ]
  },
  {
   "cell_type": "markdown",
   "metadata": {},
   "source": [
    "```bash\n",
    "for i in 1 2 3 4 5\n",
    "do\n",
    "   echo \"$i fois\"\n",
    "done\n",
    "```"
   ]
  },
  {
   "cell_type": "markdown",
   "metadata": {},
   "source": [
    "## Explorer les fichiers système\n",
    "\n",
    "Les commandes Shell donnent les mêmes résultats que ceux donnés par GUI tel que parcourir les dossiers ainsi que leurs contenus. \n",
    "\n",
    "La première de choses est de savoir où tu es, dans quel répertoire tu es. La commande `pwd` (print working\n",
    "directory) retourne ta localisation. La commande `ls` affiche les contenus du dossier dans lequel tu te trouves. \n",
    "\n",
    "Bash démarre depuis le root de l'utilisateur, chaque utilisateur a son dossier root appelé le dossier *home*. Par exemple si le nom d'utilisateur est `jmf`, la commande `pwd` affichera le dossier `/home/jmf`. Ceci est le root de l'utlisateur `jmf`. La commande `whoami` affiche le nom de l'utilisateur.\n",
    "\n"
   ]
  },
  {
   "cell_type": "markdown",
   "metadata": {},
   "source": [
    "## Fichiers\n",
    "\n",
    "La commande `ls` liste les contenus du répertoire courant. Tous les dossiers sont coloriés par la couleur bleu.\n",
    "\n",
    "Créer un fichier avec la commande `touch`:\n",
    "```bash\n",
    "   touch fichiertest\n",
    "```\n",
    "\n",
    "Ensuite afficher les contenus du répertoire. Les fichiers sont coloriés en blanc. La commande `touch` crée un fichier vide. \n",
    "\n",
    "```bash\n",
    "   ls -F\n",
    "```\n",
    "\n",
    "L'argument `-F` modifie les résultats en ajoutant le slash à la fin de dossiers.\n",
    "La commande `ls -l` détermine si les contenus du dossier sont soit dossiers ou fiichiers. Il donne même la taille de fichiers ainsi que le propriétaire. S'il s'agit d'un répertoire, le premier caractère est la lettre \"d\".\n",
    "\n",
    "Supprimer un fichier\n",
    "```bash\n",
    "   rm fichiertest\n",
    "   ls\n",
    "```"
   ]
  },
  {
   "cell_type": "markdown",
   "metadata": {},
   "source": [
    "## Créer un dossier\n",
    "\n",
    "La commande `mkdir` crée un répertoire. \n",
    "```bash\n",
    "   mkdir shell\n",
    "   mkdir data\n",
    "```"
   ]
  },
  {
   "cell_type": "markdown",
   "metadata": {},
   "source": [
    "## Changer les répertoires\n",
    "\n",
    "La commande `cd` (change directory) est utilisé afin de se déplacer dans les différents répertoires. \n",
    "```bash\n",
    "    cd shell\n",
    "    cd data\n",
    "```  \n",
    "\n",
    "Se rediriger au répertoire *home*, les commandes `cd` ou `cd ~` suffisent"
   ]
  },
  {
   "cell_type": "markdown",
   "metadata": {},
   "source": [
    "## Arguments\n",
    "\n",
    "Les arguments controllent les comportements de commandes. Par exemple, `-F` and `-l` sont des arguments de la commande `ls`.  La commande `ls` comme toute autre commande prend beaucoup d'arguments. "
   ]
  },
  {
   "cell_type": "markdown",
   "metadata": {},
   "source": [
    "### Raccourcis et autocompletion\n",
    "\n",
    "Le caractère tidle, `~`, est le raccourci du root.\n",
    "```bash\n",
    "   ls ~\n",
    "```\n",
    "\n",
    "Le caractère tidle, `..`, est le raccourci du répertoire parent.\n",
    "```bash\n",
    "   ls ..\n",
    "```\n",
    "\n",
    "Quel est le résultat de la commande suivante:\n",
    "```bash\n",
    "   ls ../../\n",
    "```\n",
    "\n",
    "explorer les commandes suivantes `ls ~`, `ls ~/.`, `ls ../../`, et \n",
    "`ls /home/jmf`."
   ]
  },
  {
   "cell_type": "markdown",
   "metadata": {},
   "source": [
    "**Autocompletion**\n",
    "\n",
    "```bash\n",
    "   cd s<tab>\n",
    "```"
   ]
  },
  {
   "cell_type": "markdown",
   "metadata": {},
   "source": [
    "### Examiner les fichiers\n",
    "\n",
    "```bash\n",
    "   cat appaloosa.txt\n",
    "```\n",
    "\n",
    "Ceci affiche les contenus du fichier `appaloosa.txt`."
   ]
  },
  {
   "cell_type": "markdown",
   "metadata": {},
   "source": [
    "### Copier, déplacer et supprimer\n",
    "\n",
    "\n",
    "```bash\n",
    "   cp data data_backup\n",
    "```\n",
    "\n",
    "```bash\n",
    "   mv data_backup /tmp/\n",
    "```\n",
    "\n",
    "```bash\n",
    "   mv data data_util\n",
    "```\n",
    "```bash\n",
    "   rm /tmp/data_backup\n",
    "```"
   ]
  },
  {
   "cell_type": "markdown",
   "metadata": {},
   "source": [
    "## Exercice: Quelles commandes à taper afin d'avoir la hierarchie suivante:\n",
    "\n",
    "<img src=\"vlad_homedir.png\" alt=\"Vlad's Home Directory\" />"
   ]
  },
  {
   "cell_type": "markdown",
   "metadata": {},
   "source": [
    "## Manuel d'utilisateur\n",
    "\n",
    "```bash\n",
    "nom_commande --help\n",
    "```\n",
    "\n",
    "**Exemple**\n",
    "\n",
    "\n",
    "```bash\n",
    "rm --help\n",
    "```"
   ]
  },
  {
   "cell_type": "markdown",
   "metadata": {},
   "source": [
    "## Recherche des fichiers\n",
    "\n",
    "```bash\n",
    "   grep Range *\n",
    "```"
   ]
  },
  {
   "cell_type": "markdown",
   "metadata": {},
   "source": [
    "## Trouver les fichiers\n",
    "\n",
    "Afficher le nom de fichier ou répertoire.\n",
    "```bash\n",
    "   find . -print\n",
    "```\n",
    "Afficher tous les fichiers\n",
    "```bash\n",
    "   find . -type f -print\n",
    "```\n",
    "\n",
    "Essayons maintenant:\n",
    "\n",
    "```bash\n",
    "   find . -type f -name \"*jor*\"\n",
    "```"
   ]
  }
 ],
 "metadata": {
  "anaconda-cloud": {},
  "kernelspec": {
   "display_name": "Python 3",
   "language": "python",
   "name": "python3"
  },
  "language_info": {
   "codemirror_mode": {
    "name": "ipython",
    "version": 3
   },
   "file_extension": ".py",
   "mimetype": "text/x-python",
   "name": "python",
   "nbconvert_exporter": "python",
   "pygments_lexer": "ipython3",
   "version": "3.4.3"
  }
 },
 "nbformat": 4,
 "nbformat_minor": 0
}
