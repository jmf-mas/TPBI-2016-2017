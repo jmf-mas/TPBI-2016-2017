{
 "cells": [
  {
   "cell_type": "markdown",
   "metadata": {},
   "source": [
    "# 02. Git Hub\n",
    "\n",
    "Le version control (système de contrôle de versions) est un moyen de conserver une sauvegarde de la modification des fichiers, un historique de ces changements et, surtout, de permettre à une équipe de personnes de modifier simultanément les mêmes fichiers. Il existe de nombreux systèmes de contrôle de version. "
   ]
  },
  {
   "cell_type": "markdown",
   "metadata": {
    "collapsed": true
   },
   "source": [
    "### Création de compte Github\n",
    "\n",
    "<ol>\n",
    "<li>Lancer la page github.com depuis votre navigateur</li>\n",
    "<li>Créer un compte github</li>\n",
    "<li>Confirmer l'adresse email via le message envoyé par github dans votre boite</li>\n",
    "<li>Envoyer le nom d'utilisateur à l'adresse masakunafelicien@gmail.com</li>\n",
    "<li>Confirmer l'invitation d'utilisation du dossier git partagé</li>\n",
    "</ol>\n",
    "\n",
    "### Configuration de compte Github\n",
    "\n",
    "```git\n",
    "git config --global user.name \"votre nom d'utilisateur github\"\n",
    "git config --global user.email \"votre adresse email\"\n",
    "```\n",
    "\n",
    "Cette configuration globale se fait une seule fois.\n",
    "\n",
    "### Création d'un répertoire github\n",
    "\n",
    "```git\n",
    "mkdir tpbi\n",
    "cd tpbi\n",
    "git init\n",
    "```\n",
    "### Clonage d'un répertoire github\n",
    "\n",
    "Par clonage on sousentend le fait d'avoir la copie en local d'un répertoire github. Un répertoire créé en ligne peut être cloné afin de permettre les processus de synchronisation de deux dossiers.\n",
    "\n",
    "**Syntaxe**\n",
    "\n",
    "```git\n",
    "git clone https://github.com/nom_utilisateur_auteur_repertoire/nom_repertoire.git\n",
    "```\n",
    "\n",
    "Faites ceci ensuite:\n",
    "```git\n",
    "git clone https://github.com/jmf-mas/TPBI-2016-2017.git\n",
    "```\n",
    "\n",
    "<img src=\"clone.png\"/>"
   ]
  },
  {
   "cell_type": "markdown",
   "metadata": {},
   "source": [
    "### Mise à jour\n",
    "\n",
    "Afin d'avoir les mises à jour du dossier git, il suffit de se rediriger dans le répertoire git cloné (avec la commande bash cd). Par mise à jour, on sousentend les nouveaux fichiers modifiés ou ajoutés dans le dossier.\n",
    "\n",
    "```git\n",
    "git pull\n",
    "```"
   ]
  },
  {
   "cell_type": "markdown",
   "metadata": {},
   "source": [
    "### Ajouter les fichiers dans le répertoire\n",
    "\n",
    "Afin d'ajouter de nouveaux fichiers dans le répertoire en ligne, faites:\n",
    "\n",
    "**Syntaxe**\n",
    "\n",
    "```git\n",
    "git add nom_fichier.extension\n",
    "```\n",
    "Ceci ajoute les fichiers dans le dossier git mais localement.\n",
    "\n",
    "```git\n",
    "git status\n",
    "```\n",
    "Vérifie l'état de git.\n",
    "\n",
    "```git\n",
    "git commit -m \"commentaires\"\n",
    "```\n",
    "Ajoute des commentaires rélatifs aux ajouts.\n",
    "\n",
    "```git\n",
    "git push\n",
    "```\n",
    "Upload les fichiers dans le dossier git en ligne."
   ]
  },
  {
   "cell_type": "markdown",
   "metadata": {},
   "source": [
    "### Travailler avec les branches"
   ]
  },
  {
   "cell_type": "markdown",
   "metadata": {},
   "source": [
    "Une branche est un pointeur spécifiant une version d'un commit. Le même dossier peut être modifié par plusieurs personnes à la fois mais via de branches différentes, c'est-à-dire de copies ou pointeurs différents. Git crée une branche par défaut appelé *master*. Une branche est rélative à un dossier.\n",
    "\n",
    "### Création d'une branche\n",
    "\n",
    "**Syntaxe**\n",
    "\n",
    "```git\n",
    "git branch nom_branche\n",
    "```\n",
    "**Exemple**\n",
    "\n",
    "```git\n",
    "git branch versionJMF\n",
    "```\n",
    "\n",
    "### Changement de branche\n",
    "\n",
    "**Syntaxe**\n",
    "\n",
    "```git\n",
    "git checkout nom_branche\n",
    "```\n",
    "**Exemple**\n",
    "\n",
    "```git\n",
    "git checkout versionJMF\n",
    "```"
   ]
  }
 ],
 "metadata": {
  "anaconda-cloud": {},
  "kernelspec": {
   "display_name": "Python 3",
   "language": "python",
   "name": "python3"
  },
  "language_info": {
   "codemirror_mode": {
    "name": "ipython",
    "version": 3
   },
   "file_extension": ".py",
   "mimetype": "text/x-python",
   "name": "python",
   "nbconvert_exporter": "python",
   "pygments_lexer": "ipython3",
   "version": "3.4.3"
  }
 },
 "nbformat": 4,
 "nbformat_minor": 1
}
